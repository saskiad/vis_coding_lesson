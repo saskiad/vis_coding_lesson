{
 "cells": [
  {
   "cell_type": "markdown",
   "id": "f29c9282",
   "metadata": {},
   "source": [
    "<div style=\"background: #F0FAFF; border-radius: 3px; padding: 10px;\">\n",
    "<h3> This notebook introduces python and introduces the Allen Brain Observatory Visual Coding dataset</h3>\n"
   ]
  },
  {
   "cell_type": "markdown",
   "id": "daa67d39",
   "metadata": {},
   "source": [
    "Python basics\n",
    "\n",
    "- for loops\n",
    "- enumerate\n",
    "\n"
   ]
  },
  {
   "cell_type": "markdown",
   "id": "ed7d8c61",
   "metadata": {},
   "source": [
    "Numpy basics\n",
    "\n",
    "- making an array with empty\n"
   ]
  },
  {
   "cell_type": "markdown",
   "id": "abd230ca",
   "metadata": {},
   "source": [
    "Pandas basics\n",
    "\n",
    "- head\n",
    "- unique\n",
    "- getting specific columns and rows of information"
   ]
  },
  {
   "cell_type": "markdown",
   "id": "0e626f5d",
   "metadata": {},
   "source": [
    "Matplotlib basics\n",
    "\n",
    "- plot\n",
    "- imshow\n",
    "- labeling axes\n",
    "- errorbars\n",
    "\n",
    "\n",
    "Bonus:\n",
    "- axvspan\n",
    "- axhline\n",
    "- legend\n"
   ]
  }
 ],
 "metadata": {
  "kernelspec": {
   "display_name": "Python 3",
   "language": "python",
   "name": "python3"
  },
  "language_info": {
   "codemirror_mode": {
    "name": "ipython",
    "version": 3
   },
   "file_extension": ".py",
   "mimetype": "text/x-python",
   "name": "python",
   "nbconvert_exporter": "python",
   "pygments_lexer": "ipython3",
   "version": "3.8.5"
  }
 },
 "nbformat": 4,
 "nbformat_minor": 5
}
