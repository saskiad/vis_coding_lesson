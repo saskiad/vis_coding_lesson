{
 "cells": [
  {
   "cell_type": "markdown",
   "id": "bbe475f0",
   "metadata": {},
   "source": [
    "<div style=\"background: #F0FAFF; border-radius: 3px; padding: 10px;\">\n",
    "<h3> This notebook will compute correlations between two neurons in the the Allen Brain Observatory to quantitatively compare their responses to Drifting Gratings </h3>\n",
    "    \n",
    "In the last notebook, you noticed that some of the neurons had the same tuning for orientation and temporal frequency. Here we want to look at how similar are these responses. To do this, we will look at how the activity of two similarly tuned neurons are correlated.\n"
   ]
  },
  {
   "cell_type": "markdown",
   "id": "11737dbb",
   "metadata": {},
   "source": [
    "### Standard imports"
   ]
  },
  {
   "cell_type": "code",
   "execution_count": 1,
   "id": "d2050a88",
   "metadata": {},
   "outputs": [],
   "source": [
    "import numpy as np\n",
    "import pandas as pd\n",
    "import matplotlib.pyplot as plt\n",
    "%matplotlib inline  "
   ]
  },
  {
   "cell_type": "markdown",
   "id": "afd4de2c",
   "metadata": {},
   "source": [
    "### Allen Brain Observatory set up"
   ]
  },
  {
   "cell_type": "code",
   "execution_count": 3,
   "id": "e4a1f07c",
   "metadata": {},
   "outputs": [],
   "source": [
    "from allensdk.core.brain_observatory_cache import BrainObservatoryCache\n",
    "\n",
    "manifest_file = '../data/allen-brain-observatory/visual-coding-2p/manifest.json'\n",
    "boc = BrainObservatoryCache(manifest_file=manifest_file)"
   ]
  },
  {
   "cell_type": "markdown",
   "id": "234c87a2",
   "metadata": {},
   "source": [
    "<div style=\"background: #DFF0D8; border-radius: 3px; padding: 10px;\">\n",
    "<p>We want to compare cell_id 541513979 (the original neuron we looked at) to cell_id 541511905. Again, these two neurons were both recorded in the same session.\n",
    "    \n",
    "<p> We will need the function from notebook 1 to get the dff_trace for each of these neurons and the compute_tuning function you wrote in the previous notebook to get the tuning arrays for each of these neurons. Modify this function to return both the cell_response array and the tuning_array.\n",
    "\n",
    "</div style>"
   ]
  },
  {
   "cell_type": "code",
   "execution_count": 4,
   "id": "21d1ea23",
   "metadata": {},
   "outputs": [],
   "source": [
    "def get_dff_traces_and_stim_table(cell_specimen_id, stimulus): \n",
    "    #identify the session for a given cell id and stimulus\n",
    "    exps = boc.get_ophys_experiments(cell_specimen_ids=[cell_specimen_id], stimuli=[stimulus])\n",
    "    \n",
    "    #get the session_id for that session\n",
    "    session_id = exps[0]['id']\n",
    "    \n",
    "    #access the data for that session\n",
    "    data_set = boc.get_ophys_experiment_data(session_id)\n",
    "    \n",
    "    #get the DFF trace for the cell\n",
    "    timestamps, dff = data_set.get_dff_traces(cell_specimen_ids=[cell_specimen_id])\n",
    "    dff_trace = dff[0,:]\n",
    "    \n",
    "    #get the stimulus table for the stimulus\n",
    "    stim_table = data_set.get_stimulus_table(stimulus)\n",
    "    \n",
    "    #return everything\n",
    "    return (timestamps, dff_trace, stim_table)"
   ]
  },
  {
   "cell_type": "markdown",
   "id": "d6baa4fb",
   "metadata": {},
   "source": [
    "Copy and paste your function here:"
   ]
  },
  {
   "cell_type": "code",
   "execution_count": null,
   "id": "ad78a3b5",
   "metadata": {},
   "outputs": [],
   "source": []
  },
  {
   "cell_type": "code",
   "execution_count": 9,
   "id": "8478c1d3",
   "metadata": {},
   "outputs": [],
   "source": [
    "def compute_tuning(cell_id):\n",
    "    #get the dff_traces and the stimulus table using the function above\n",
    "    timestamps, dff_trace, stim_table = get_dff_traces_and_stim_table(cell_id, 'drifting_gratings')\n",
    "    \n",
    "    #compute the cell response\n",
    "    cell_response= np.zeros((len(stim_table),3))\n",
    "    for i in range(len(stim_table)):\n",
    "        cell_response[i,0] = stim_table.orientation[i]\n",
    "        cell_response[i,1] = stim_table.temporal_frequency[i]\n",
    "        cell_response[i,2] = dff_trace[stim_table.start[i]:stim_table.end[i]].mean()\n",
    "    \n",
    "    #get the orivals and tfvals\n",
    "    all_ori = np.unique(cell_response[:,0])\n",
    "    orivals = all_ori[np.isfinite(all_ori)]\n",
    "    tfvals = np.unique(cell_response[:,1])\n",
    "    tfvals = tfvals[np.isfinite(tfvals)]\n",
    "    \n",
    "    #compute the tuning array\n",
    "    tuning_array = np.empty((8,5))\n",
    "    for i,tf in enumerate(tfvals):\n",
    "        tf_trials = cell_response[:,1]==tf\n",
    "        subset = cell_response[tf_trials]\n",
    "        for j,ori in enumerate(orivals):\n",
    "            trials = subset[:,0]==ori\n",
    "            tuning_array[j,i] = subset[trials,2].mean() \n",
    "    \n",
    "    #plot the heatmap of the tuning array and save it\n",
    "    plt.imshow(tuning_array)\n",
    "    plt.xticks(range(5), tfvals)\n",
    "    plt.yticks(range(8), orivals)\n",
    "    plt.xlabel(\"TF\")\n",
    "    plt.ylabel(\"Direction\")\n",
    "    plt.title(\"Cell \"+str(cell_id))\n",
    "    plt.show()\n",
    "    plt.savefig(\"/results/Cell \"+str(cell_id)+\".jpg\")\n",
    "    \n",
    "    return (cell_response, tuning_array)"
   ]
  },
  {
   "cell_type": "markdown",
   "id": "e2b0688b",
   "metadata": {},
   "source": [
    "<div style=\"background: #FFF0F0; border-radius: 3px; padding: 10px;\">\n",
    "<p>**Exercise 1:** Get the dff_trace for each of these neurons. Call one dff_trace_1 and the other dff_trace_2. </div>"
   ]
  },
  {
   "cell_type": "code",
   "execution_count": 16,
   "id": "153b22a2",
   "metadata": {},
   "outputs": [],
   "source": [
    "cell_id = 541513979\n",
    "timestamps, dff_trace_1, stim_table = get_dff_traces_and_stim_table(cell_id, 'drifting_gratings')"
   ]
  },
  {
   "cell_type": "code",
   "execution_count": 8,
   "id": "ce8b5842",
   "metadata": {},
   "outputs": [],
   "source": [
    "cell_id_2 = 541511905\n",
    "timestamps, dff_trace_2, stim_table = get_dff_traces_and_stim_table(cell_id_2, 'drifting_gratings')"
   ]
  },
  {
   "cell_type": "code",
   "execution_count": 10,
   "id": "24a38a05",
   "metadata": {},
   "outputs": [
    {
     "data": {
      "image/png": "[encoded data removed]",
      "text/plain": [
       "<Figure size 432x288 with 1 Axes>"
      ]
     },
     "metadata": {
      "needs_background": "light"
     },
     "output_type": "display_data"
    },
    {
     "data": {
      "text/plain": [
       "<Figure size 432x288 with 0 Axes>"
      ]
     },
     "metadata": {},
     "output_type": "display_data"
    }
   ],
   "source": [
    "(cell_response_1, tuning_array_1) = compute_tuning(cell_id)"
   ]
  },
  {
   "cell_type": "code",
   "execution_count": 11,
   "id": "eccbefe4",
   "metadata": {},
   "outputs": [
    {
     "data": {
      "image/png": "[encoded data removed]",
      "text/plain": [
       "<Figure size 432x288 with 1 Axes>"
      ]
     },
     "metadata": {
      "needs_background": "light"
     },
     "output_type": "display_data"
    },
    {
     "data": {
      "text/plain": [
       "<Figure size 432x288 with 0 Axes>"
      ]
     },
     "metadata": {},
     "output_type": "display_data"
    }
   ],
   "source": [
    "(cell_response_2, tuning_array_2) = compute_tuning(cell_id_2)"
   ]
  },
  {
   "cell_type": "markdown",
   "id": "6d1d967e",
   "metadata": {},
   "source": [
    "<div style=\"border-radius: 3px; padding: 10px;  background: #F0FAFF; \">\n",
    "<h3>Correlations</h3>\n",
    "<p>\n",
    "We can compute a correlation coefficient to measure the relationship between two variables - in this case the responses of two different cells. When cell A has a large response, does cell B also have a strong response? \n",
    "<p> We will use Pearson correlation coefficient, which is defined as:\n",
    "    <br>\n",
    "<img src=\"correlation_coefficient_formula.svg\">\n",
    "<p> where x and y are the two variables in question. We will use a function from scipy.stats to compute this for us.\n",
    "<p> If the two variables are positively correlated, a large response from cell A will be matched with a large response in cell B. If they are weakly correlated, the response size of cell A will have no relationship with the response size of cell B. And if they are negatively correlated, cell B will have small responses when cell A has large responses.\n",
    "<br><img src=\"pearson-2-small.png\">\n",
    "</div>"
   ]
  },
  {
   "cell_type": "markdown",
   "id": "88a05e3b",
   "metadata": {},
   "source": [
    "Import scipy.stats"
   ]
  },
  {
   "cell_type": "code",
   "execution_count": 12,
   "id": "00bfafad",
   "metadata": {},
   "outputs": [],
   "source": [
    "import scipy.stats as st"
   ]
  },
  {
   "cell_type": "markdown",
   "id": "c75b94d0",
   "metadata": {},
   "source": [
    "<div style=\"background: #DFF0D8; border-radius: 3px; padding: 10px;\">\n",
    "Let's begin by comparing the tuning arrays of these two neurons. We've already noted that they look very similar. How similar are they? \n",
    "    <p> In order to use <b>st.pearsonr</b> we need to turn this two-dimensional array into a one-dimensional array. We use <b>flatten</b> to do this.\n",
    "    <p> st.pearsonr returns two values, typical notated as r and p. r is the correlation coefficient we want to look at. p is a p-value noting its significance.\n",
    "</div style>"
   ]
  },
  {
   "cell_type": "code",
   "execution_count": 13,
   "id": "19aababa",
   "metadata": {},
   "outputs": [
    {
     "name": "stdout",
     "output_type": "stream",
     "text": [
      "0.9347812227928617\n"
     ]
    }
   ],
   "source": [
    "r,p = st.pearsonr(tuning_array_1.flatten(), tuning_array_2.flatten())\n",
    "print(r)"
   ]
  },
  {
   "cell_type": "code",
   "execution_count": 37,
   "id": "06a963dd",
   "metadata": {},
   "outputs": [
    {
     "data": {
      "text/plain": [
       "Text(0.5, 1.0, 'Tuning array')"
      ]
     },
     "execution_count": 37,
     "metadata": {},
     "output_type": "execute_result"
    },
    {
     "data": {
      "image/png": "[encoded data removed]",
      "text/plain": [
       "<Figure size 432x288 with 1 Axes>"
      ]
     },
     "metadata": {
      "needs_background": "light"
     },
     "output_type": "display_data"
    }
   ],
   "source": [
    "plt.plot(tuning_array_1.flatten(), tuning_array_2.flatten(), '.')\n",
    "plt.xlabel(\"Neuron 1\")\n",
    "plt.ylabel(\"Neuron 2\")\n",
    "plt.title(\"Tuning array\")"
   ]
  },
  {
   "cell_type": "markdown",
   "id": "00692512",
   "metadata": {},
   "source": [
    "<div style=\"background: #F0FAFF; border-radius: 3px; padding: 10px;\">\n",
    "This is very highly correlated! Indeed we were correct that they have very similar tuning curves.\n",
    "</div>"
   ]
  },
  {
   "cell_type": "markdown",
   "id": "34114536",
   "metadata": {},
   "source": [
    "<div style=\"background: #FFF0F0; border-radius: 3px; padding: 10px;\">\n",
    "<p>**Exercise 2:** Calculate the correlation coefficient between the cell_response arrays for the two neurons. These are the responses to each trial, before we average the trials for each stimulus condition together.\n",
    "<p>(Use the last column of cell_response array - this column is already one_dimensional, so you won't need to flatten)\n",
    "</div>"
   ]
  },
  {
   "cell_type": "code",
   "execution_count": 14,
   "id": "3b623c0d",
   "metadata": {},
   "outputs": [
    {
     "name": "stdout",
     "output_type": "stream",
     "text": [
      "0.7640585294224912\n"
     ]
    }
   ],
   "source": [
    "r,p = st.pearsonr(cell_response_1[:,2], cell_response_2[:,2])\n",
    "print(r)"
   ]
  },
  {
   "cell_type": "code",
   "execution_count": 38,
   "id": "60e491cb",
   "metadata": {},
   "outputs": [
    {
     "data": {
      "text/plain": [
       "Text(0.5, 1.0, 'Trial responses')"
      ]
     },
     "execution_count": 38,
     "metadata": {},
     "output_type": "execute_result"
    },
    {
     "data": {
      "image/png": "[encoded data removed]",
      "text/plain": [
       "<Figure size 432x288 with 1 Axes>"
      ]
     },
     "metadata": {
      "needs_background": "light"
     },
     "output_type": "display_data"
    }
   ],
   "source": [
    "plt.plot(cell_response_1[:,2], cell_response_2[:,2], '.')\n",
    "plt.xlabel(\"Neuron 1\")\n",
    "plt.ylabel(\"Neuron 2\")\n",
    "plt.title(\"Trial responses\")"
   ]
  },
  {
   "cell_type": "markdown",
   "id": "1fb1960c",
   "metadata": {},
   "source": [
    "<div style=\"background: #FFF0F0; border-radius: 3px; padding: 10px;\">\n",
    "<p>**Exercise 3:** Calculate the correlation coefficient between the dff_trace of the two neurons.\n",
    "</div>"
   ]
  },
  {
   "cell_type": "code",
   "execution_count": 17,
   "id": "13beb53e",
   "metadata": {},
   "outputs": [
    {
     "name": "stdout",
     "output_type": "stream",
     "text": [
      "0.5628775961334622\n"
     ]
    }
   ],
   "source": [
    "r,p = st.pearsonr(dff_trace_1, dff_trace_2)\n",
    "print(r)"
   ]
  },
  {
   "cell_type": "code",
   "execution_count": 39,
   "id": "047af582",
   "metadata": {},
   "outputs": [
    {
     "data": {
      "text/plain": [
       "Text(0.5, 1.0, 'DF/F Traces')"
      ]
     },
     "execution_count": 39,
     "metadata": {},
     "output_type": "execute_result"
    },
    {
     "data": {
      "image/png": "[encoded data removed]",
      "text/plain": [
       "<Figure size 432x288 with 1 Axes>"
      ]
     },
     "metadata": {
      "needs_background": "light"
     },
     "output_type": "display_data"
    }
   ],
   "source": [
    "plt.plot(dff_trace_1, dff_trace_2, '.')\n",
    "plt.xlabel(\"Neuron 1\")\n",
    "plt.ylabel(\"Neuron 2\")\n",
    "plt.title(\"DF/F Traces\")"
   ]
  },
  {
   "cell_type": "markdown",
   "id": "0eedfdeb",
   "metadata": {},
   "source": [
    "<div style=\"background: #F0FAFF; border-radius: 3px; padding: 10px;\">\n",
    "What do you notice? Why are these correlation coefficients different?</div>"
   ]
  },
  {
   "cell_type": "code",
   "execution_count": null,
   "id": "c1621bb0",
   "metadata": {},
   "outputs": [],
   "source": []
  }
 ],
 "metadata": {
  "kernelspec": {
   "display_name": "Python 3",
   "language": "python",
   "name": "python3"
  },
  "language_info": {
   "codemirror_mode": {
    "name": "ipython",
    "version": 3
   },
   "file_extension": ".py",
   "mimetype": "text/x-python",
   "name": "python",
   "nbconvert_exporter": "python",
   "pygments_lexer": "ipython3",
   "version": "3.8.5"
  }
 },
 "nbformat": 4,
 "nbformat_minor": 5
}
